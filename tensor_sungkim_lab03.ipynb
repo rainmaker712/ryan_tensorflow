{
 "cells": [
  {
   "cell_type": "markdown",
   "metadata": {},
   "source": [
    "# ML Lab03 - Linear Regression 의 cost 최소화와 Tensorflow 구현"
   ]
  },
  {
   "cell_type": "code",
   "execution_count": 19,
   "metadata": {
    "collapsed": false
   },
   "outputs": [],
   "source": [
    "import tensorflow as tf\n",
    "import matplotlib.pyplot as plt\n",
    "#mac os error: https://github.com/matplotlib/matplotlib/pull/5640 (remove folder)\n",
    "%matplotlib inline"
   ]
  },
  {
   "cell_type": "code",
   "execution_count": 20,
   "metadata": {
    "collapsed": false
   },
   "outputs": [
    {
     "name": "stdout",
     "output_type": "stream",
     "text": [
      "-3.0 74.6667\n",
      "-2.9 70.98\n",
      "-2.8 67.3867\n",
      "-2.7 63.8867\n",
      "-2.6 60.48\n",
      "-2.5 57.1667\n",
      "-2.4 53.9467\n",
      "-2.3 50.82\n",
      "-2.2 47.7867\n",
      "-2.1 44.8467\n",
      "-2.0 42.0\n",
      "-1.9 39.2467\n",
      "-1.8 36.5867\n",
      "-1.7 34.02\n",
      "-1.6 31.5467\n",
      "-1.5 29.1667\n",
      "-1.4 26.88\n",
      "-1.3 24.6867\n",
      "-1.2 22.5867\n",
      "-1.1 20.58\n",
      "-1.0 18.6667\n",
      "-0.9 16.8467\n",
      "-0.8 15.12\n",
      "-0.7 13.4867\n",
      "-0.6 11.9467\n",
      "-0.5 10.5\n",
      "-0.4 9.14667\n",
      "-0.3 7.88667\n",
      "-0.2 6.72\n",
      "-0.1 5.64667\n",
      "0.0 4.66667\n",
      "0.1 3.78\n",
      "0.2 2.98667\n",
      "0.3 2.28667\n",
      "0.4 1.68\n",
      "0.5 1.16667\n",
      "0.6 0.746667\n",
      "0.7 0.42\n",
      "0.8 0.186667\n",
      "0.9 0.0466667\n",
      "1.0 0.0\n",
      "1.1 0.0466667\n",
      "1.2 0.186667\n",
      "1.3 0.42\n",
      "1.4 0.746666\n",
      "1.5 1.16667\n",
      "1.6 1.68\n",
      "1.7 2.28667\n",
      "1.8 2.98667\n",
      "1.9 3.78\n",
      "2.0 4.66667\n",
      "2.1 5.64667\n",
      "2.2 6.72\n",
      "2.3 7.88667\n",
      "2.4 9.14667\n",
      "2.5 10.5\n",
      "2.6 11.9467\n",
      "2.7 13.4867\n",
      "2.8 15.12\n",
      "2.9 16.8467\n",
      "3.0 18.6667\n",
      "3.1 20.58\n",
      "3.2 22.5867\n",
      "3.3 24.6867\n",
      "3.4 26.88\n",
      "3.5 29.1667\n",
      "3.6 31.5467\n",
      "3.7 34.02\n",
      "3.8 36.5867\n",
      "3.9 39.2467\n",
      "4.0 42.0\n",
      "4.1 44.8467\n",
      "4.2 47.7867\n",
      "4.3 50.82\n",
      "4.4 53.9467\n",
      "4.5 57.1667\n",
      "4.6 60.48\n",
      "4.7 63.8867\n",
      "4.8 67.3867\n",
      "4.9 70.98\n"
     ]
    }
   ],
   "source": [
    "#tf Graph Input\n",
    "X = [1., 2., 3.]\n",
    "Y = [1., 2., 3.]\n",
    "m = n_samples = len(X)\n",
    "\n",
    "#Set model weights\n",
    "W = tf.placeholder(tf.float32)\n",
    "\n",
    "# Construct a linear model\n",
    "hypothesis = tf.mul(X, W)\n",
    "\n",
    "# Cost function\n",
    "cost = tf.reduce_sum(tf.pow(hypothesis-Y, 2))/(m)\n",
    "\n",
    "# Initializing the variables\n",
    "init = tf.initialize_all_variables()\n",
    "\n",
    "# For graphs\n",
    "W_val = []\n",
    "cost_val = []\n",
    "\n",
    "# Launch the graph\n",
    "sess = tf.Session()\n",
    "sess.run(init)\n",
    "for i in range(-30, 50):\n",
    "    print i*0.1, sess.run(cost, feed_dict={W: i*0.1})\n",
    "    W_val.append(i*0.1)\n",
    "    cost_val.append(sess.run(cost, feed_dict={W: i*0.1}))\n",
    "\n"
   ]
  },
  {
   "cell_type": "code",
   "execution_count": 21,
   "metadata": {
    "collapsed": false
   },
   "outputs": [
    {
     "data": {
      "text/plain": [
       "<function matplotlib.pyplot.show>"
      ]
     },
     "execution_count": 21,
     "metadata": {},
     "output_type": "execute_result"
    },
    {
     "data": {
      "image/png": "[encoded data removed]",
      "text/plain": [
       "<matplotlib.figure.Figure at 0x1185c4c50>"
      ]
     },
     "metadata": {},
     "output_type": "display_data"
    }
   ],
   "source": [
    "# Graphic display\n",
    "plt.plot(W_val, cost_val, 'ro')\n",
    "plt.ylabel('Cost')\n",
    "plt.xlabel('W')\n",
    "plt.show"
   ]
  },
  {
   "cell_type": "code",
   "execution_count": null,
   "metadata": {
    "collapsed": true
   },
   "outputs": [],
   "source": []
  },
  {
   "cell_type": "code",
   "execution_count": 25,
   "metadata": {
    "collapsed": false
   },
   "outputs": [
    {
     "name": "stdout",
     "output_type": "stream",
     "text": [
      "0 6.90096 [ 2.21605015]\n",
      "1 1.96294 [ 1.64856005]\n",
      "2 0.558347 [ 1.34589863]\n",
      "3 0.158819 [ 1.18447924]\n",
      "4 0.0451751 [ 1.09838891]\n",
      "5 0.0128498 [ 1.05247414]\n",
      "6 0.00365506 [ 1.02798617]\n",
      "7 0.00103966 [ 1.01492596]\n",
      "8 0.000295729 [ 1.00796056]\n",
      "9 8.41178e-05 [ 1.00424564]\n",
      "10 2.39274e-05 [ 1.00226438]\n",
      "11 6.80633e-06 [ 1.00120771]\n",
      "12 1.93581e-06 [ 1.00064409]\n",
      "13 5.50827e-07 [ 1.00034356]\n",
      "14 1.5671e-07 [ 1.00018322]\n",
      "15 4.45918e-08 [ 1.00009775]\n",
      "16 1.2677e-08 [ 1.00005209]\n",
      "17 3.60693e-09 [ 1.00002778]\n",
      "18 1.0197e-09 [ 1.00001478]\n",
      "19 2.88878e-10 [ 1.00000787]\n"
     ]
    }
   ],
   "source": [
    "#tf Graph Input\n",
    "x_data = [1., 2., 3.]\n",
    "y_data = [1., 2., 3.]\n",
    "\n",
    "W = tf.Variable(tf.random_uniform([1], -10.0, 10.0))\n",
    "\n",
    "X = tf.placeholder(tf.float32)\n",
    "Y = tf.placeholder(tf.float32)\n",
    "\n",
    "#Our hypothesis\n",
    "hypothesis = W * X\n",
    "\n",
    "#Simplifed cost function\n",
    "cost = tf.reduce_mean(tf.square(hypothesis - Y))\n",
    "\n",
    "#Minimize\n",
    "descent = W - tf.mul(0.1, tf.reduce_mean(tf.mul((tf.mul(W, X) - Y), X)))\n",
    "update = W.assign(descent)\n",
    "\n",
    "# Before starting, initialize the variables.\n",
    "init = tf.initialize_all_variables()\n",
    "\n",
    "# Launch the graph.\n",
    "sess = tf.Session()\n",
    "sess.run(init)\n",
    "\n",
    "# Fit the line:\n",
    "for step in xrange(20):\n",
    "    sess.run(update, feed_dict={X:x_data, Y:y_data})\n",
    "    print step, sess.run(cost, feed_dict={X:x_data, Y:y_data}), sess.run(W)"
   ]
  },
  {
   "cell_type": "code",
   "execution_count": null,
   "metadata": {
    "collapsed": true
   },
   "outputs": [],
   "source": []
  }
 ],
 "metadata": {
  "kernelspec": {
   "display_name": "Python 2",
   "language": "python",
   "name": "python2"
  },
  "language_info": {
   "codemirror_mode": {
    "name": "ipython",
    "version": 2
   },
   "file_extension": ".py",
   "mimetype": "text/x-python",
   "name": "python",
   "nbconvert_exporter": "python",
   "pygments_lexer": "ipython2",
   "version": "2.7.11"
  }
 },
 "nbformat": 4,
 "nbformat_minor": 0
}
